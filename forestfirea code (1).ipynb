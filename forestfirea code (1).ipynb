{
  "nbformat": 4,
  "nbformat_minor": 0,
  "metadata": {
    "colab": {
      "provenance": []
    },
    "kernelspec": {
      "name": "python3",
      "display_name": "Python 3"
    },
    "language_info": {
      "name": "python"
    }
  },
  "cells": [
    {
      "cell_type": "code",
      "source": [
        "import pandas as pd\n",
        "from sklearn.model_selection import train_test_split\n",
        "from sklearn.preprocessing import StandardScaler\n",
        "from sklearn.svm import SVC\n",
        "from sklearn.metrics import classification_report, accuracy_score\n",
        "\n",
        "df = pd.read_csv('forestfires (1)')\n",
        "\n",
        "df['month'] = pd.Categorical(df['month']).codes\n",
        "df['day'] = pd.Categorical(df['day']).codes\n",
        "\n",
        "X = df.drop('Size_Categorie', axis=1)\n",
        "y = df['Size_Categorie']\n",
        "\n",
        "X_train, X_test, y_train, y_test = train_test_split(X, y, test_size=0.2, random_state=42)\n",
        "\n",
        "scaler = StandardScaler()\n",
        "X_train_scaled = scaler.fit_transform(X_train)\n",
        "X_test_scaled = scaler.transform(X_test)\n",
        "\n",
        "svm_classifier = SVC(kernel='linear', C=1.0)  # You can experiment with different parameters\n",
        "svm_classifier.fit(X_train_scaled, y_train)\n",
        "\n",
        "y_pred = svm_classifier.predict(X_test_scaled)\n",
        "\n",
        "accuracy = accuracy_score(y_test, y_pred)\n",
        "report = classification_report(y_test, y_pred)\n",
        "\n",
        "print(f'Accuracy: {accuracy}')\n",
        "print('Classification Report:')\n",
        "print(report)"
      ],
      "metadata": {
        "id": "gfYT4TEMVcjM"
      },
      "execution_count": null,
      "outputs": []
    }
  ]
}